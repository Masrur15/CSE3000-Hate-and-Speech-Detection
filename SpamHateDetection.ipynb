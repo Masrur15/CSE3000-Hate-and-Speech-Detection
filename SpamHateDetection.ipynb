{
 "cells": [
  {
   "cell_type": "markdown",
   "id": "51d3c630",
   "metadata": {},
   "source": [
    "# ML SPAM AND HATE DETECTION"
   ]
  },
  {
   "cell_type": "markdown",
   "id": "4d4960f5",
   "metadata": {},
   "source": [
    "### Imports"
   ]
  },
  {
   "cell_type": "code",
   "execution_count": 25,
   "id": "d68e1a39",
   "metadata": {},
   "outputs": [],
   "source": [
    "# Import needed libraries\n",
    "import pandas as pd  # For data manipulation and analysis\n",
    "from sklearn.feature_extraction.text import TfidfVectorizer  # For text vectorization\n",
    "from sklearn.linear_model import LogisticRegression  # Classification algorithm to train model\n",
    "from sklearn.metrics import accuracy_score, f1_score, precision_score  # For evaluation metrics\n",
    "import joblib  # For saving and loading trained models\n",
    "import os  # For file path operations\n",
    "import matplotlib.pyplot as plt # For plotting graphs\n",
    "import seaborn as sns # For plotting graphs\n"
   ]
  },
  {
   "cell_type": "markdown",
   "id": "4129077a",
   "metadata": {},
   "source": [
    "### Process the text"
   ]
  },
  {
   "cell_type": "code",
   "execution_count": 26,
   "id": "f41c0426",
   "metadata": {},
   "outputs": [],
   "source": [
    "# Dictionary containing configuration for different classification models\n",
    "models = {\n",
    "    'spam': {  # Spam detection model configuration\n",
    "        'dataset': 'spam.csv',  # Spam data from Kaggle SMS Spam Collection\n",
    "        'text_col': 'v2',  # Specify column from dataset containing text data \n",
    "        'label_col': 'v1',  # Specify column from dataset that has labels (spam or ham)\n",
    "        'label_map': {'ham': 0, 'spam': 1},  # Mapping text labels to numeric values\n",
    "        'output': {0: 'NOT SPAM', 1: 'SPAM'}  # Two ctageories: Spam and Not Spam\n",
    "    },\n",
    "    'hate': {  # Hate speech detection model configuration\n",
    "        'dataset': 'hateSpeech.csv', #Hate Speech data from 'Learning From The Worst'\n",
    "        'text_col': 'text', # Specify column from dataset containing text data \n",
    "        'label_col': 'label', # Specify column from dataset that has labels (hate or not hate)\n",
    "        'label_map': {'hate': 1, 'nothate': 0}, # Mapping text labels to numeric values\n",
    "        'output': {0: 'NOT HATE', 1: 'HATE SPEECH'} # Two categories: Hate and Not Hate \n",
    "    }\n",
    "}\n",
    "\n",
    "def preprocess_text(text):\n",
    "    \"\"\"Text preprocessing function that removes numbers, punctation, and symbols\"\"\"\n",
    "    text = str(text).lower()  # Convert to lowercase\n",
    "    # Keep only lowercase letters and spaces\n",
    "    text = ''.join([char for char in text if char.isalpha() or char.isspace()])\n",
    "    return text"
   ]
  },
  {
   "cell_type": "markdown",
   "id": "397b739b",
   "metadata": {},
   "source": [
    "### Train Model"
   ]
  },
  {
   "cell_type": "code",
   "execution_count": 27,
   "id": "5969d0b7",
   "metadata": {},
   "outputs": [],
   "source": [
    "\n",
    "def load_or_train_model(model_name):\n",
    "    \"\"\"\n",
    "    Load existing model if available, otherwise train a new one\n",
    "    Returns model, vectorizer, and evaluation metrics\n",
    "    \"\"\"\n",
    "    # Define file names for saving/loading components\n",
    "    model_file = f\"{model_name}_model.joblib\"\n",
    "    vectorizer_file = f\"{model_name}_vectorizer.joblib\"\n",
    "    metrics_file = f\"{model_name}_metrics.joblib\"\n",
    "    \n",
    "    # Check if all model files exist\n",
    "    if all(os.path.exists(f) for f in [model_file, vectorizer_file, metrics_file]):\n",
    "        print(f\"Loading existing {model_name} model...\")\n",
    "        # Load pre-trained components\n",
    "        model = joblib.load(model_file)\n",
    "        vectorizer = joblib.load(vectorizer_file)\n",
    "        metrics = joblib.load(metrics_file)\n",
    "    else:\n",
    "        print(f\"Training new {model_name} model...\")\n",
    "        config = models[model_name]  # Get model configuration\n",
    "        df = pd.read_csv(config['dataset'])  # Load dataset\n",
    "        \n",
    "        # Prepare data - select relevant columns and clean\n",
    "        df = df[[config['text_col'], config['label_col']]].dropna()\n",
    "        df['cleaned_text'] = df[config['text_col']].apply(preprocess_text)\n",
    "        df['label'] = df[config['label_col']].map(config['label_map'])  # Convert labels to numerical\n",
    "        \n",
    "        # Split data into training and test sets\n",
    "        X_train, X_test, y_train, y_test = train_test_split(df['cleaned_text'], df['label'], test_size=0.2, random_state=42)\n",
    "        \n",
    "        # Convert text to numerical features using Term Frequency-Inverse Document Frequency\n",
    "        vectorizer = TfidfVectorizer(max_features=5000, stop_words='english')\n",
    "        # Keeps only the first 5,000 most important words and removes common English words\n",
    "\n",
    "        X_train_vec = vectorizer.fit_transform(X_train)  # Fit and transform training data\n",
    "        X_test_vec = vectorizer.transform(X_test)  # Transform test data\n",
    "        \n",
    "        # Initialize and train logistic regression model\n",
    "        model = LogisticRegression(max_iter=1000, class_weight='balanced') \n",
    "        model.fit(X_train_vec, y_train)\n",
    "        \n",
    "        # Evaluate model performance\n",
    "        y_pred = model.predict(X_test_vec)\n",
    "        metrics = {\n",
    "            'accuracy': accuracy_score(y_test, y_pred),  # Overall accuracy\n",
    "            'precision': precision_score(y_test, y_pred),  # Precision score\n",
    "            'f1': f1_score(y_test, y_pred)  # F1 score (balance of precision and recall)\n",
    "        }\n",
    "        \n",
    "        # Save all components for future use\n",
    "        joblib.dump(model, model_file)\n",
    "        joblib.dump(vectorizer, vectorizer_file)\n",
    "        joblib.dump(metrics, metrics_file)\n",
    "    \n",
    "    return model, vectorizer, metrics"
   ]
  },
  {
   "cell_type": "markdown",
   "id": "71b1b998",
   "metadata": {},
   "source": [
    "### Performance Metrics"
   ]
  },
  {
   "cell_type": "code",
   "execution_count": 28,
   "id": "1c33a1e7",
   "metadata": {},
   "outputs": [
    {
     "name": "stdout",
     "output_type": "stream",
     "text": [
      "Initializing models...\n",
      "Loading existing spam model...\n",
      "Loading existing hate model...\n",
      "\n",
      "Model Performance Metrics:\n",
      "SPAM MODEL:\n",
      "  Accuracy: 0.97\n",
      "  Precision: 0.90\n",
      "  F1 Score: 0.90\n",
      "\n",
      "HATE SPEECH MODEL:\n",
      "  Accuracy: 0.64\n",
      "  Precision: 0.65\n",
      "  F1 Score: 0.63\n"
     ]
    },
    {
     "data": {
      "image/png": "[encoded data removed]",
      "text/plain": [
       "<Figure size 800x500 with 1 Axes>"
      ]
     },
     "metadata": {},
     "output_type": "display_data"
    }
   ],
   "source": [
    "# Load or train both models with metrics\n",
    "print(\"Initializing models...\")\n",
    "spam_model, spam_vectorizer, spam_metrics = load_or_train_model('spam')\n",
    "hate_model, hate_vectorizer, hate_metrics = load_or_train_model('hate')\n",
    "\n",
    "# Display model performance metrics\n",
    "print(\"\\nModel Performance Metrics:\")\n",
    "print(f\"SPAM MODEL:\")\n",
    "print(f\"  Accuracy: {spam_metrics['accuracy']:.2f}\")  # Format to 2 decimal places\n",
    "print(f\"  Precision: {spam_metrics['precision']:.2f}\")\n",
    "print(f\"  F1 Score: {spam_metrics['f1']:.2f}\")\n",
    "\n",
    "print(f\"\\nHATE SPEECH MODEL:\")\n",
    "print(f\"  Accuracy: {hate_metrics['accuracy']:.2f}\")\n",
    "print(f\"  Precision: {hate_metrics['precision']:.2f}\")\n",
    "print(f\"  F1 Score: {hate_metrics['f1']:.2f}\")\n",
    "\n",
    "# Store Data for Graph\n",
    "metrics_names = ['Accuracy', 'Precision', 'F1 Score']\n",
    "spam_values = [spam_metrics['accuracy'], spam_metrics['precision'], spam_metrics['f1']]\n",
    "hate_values = [hate_metrics['accuracy'], hate_metrics['precision'], hate_metrics['f1']]\n",
    "\n",
    "x = range(len(metrics_names))  # 0, 1, 2\n",
    "\n",
    "# Plot our graph\n",
    "plt.figure(figsize=(8, 5))\n",
    "bar_width = 0.35\n",
    "\n",
    "plt.bar([i - bar_width/2 for i in x], spam_values, width=bar_width, label='Spam Model', color='skyblue')\n",
    "plt.bar([i + bar_width/2 for i in x], hate_values, width=bar_width, label='Hate Speech Model', color='salmon')\n",
    "\n",
    "# Labeling\n",
    "plt.xlabel('Metric')\n",
    "plt.ylabel('Score')\n",
    "plt.title('Model Performance Comparison')\n",
    "plt.xticks(ticks=x, labels=metrics_names)\n",
    "plt.ylim(0, 1.05)\n",
    "plt.legend()\n",
    "plt.grid(axis='y', linestyle='--', alpha=0.7)\n",
    "\n",
    "# Show plot\n",
    "plt.tight_layout()\n",
    "plt.show()\n"
   ]
  },
  {
   "cell_type": "markdown",
   "id": "be622241",
   "metadata": {},
   "source": [
    "### Classification function"
   ]
  },
  {
   "cell_type": "code",
   "execution_count": 29,
   "id": "21fbd543",
   "metadata": {},
   "outputs": [],
   "source": [
    "def classify_text(text):\n",
    "    \"\"\"Classify text with both models and return predictions with confidence scores\"\"\"\n",
    "    cleaned = preprocess_text(text)  # Clean the input text\n",
    "    \n",
    "    # Spam classification\n",
    "    spam_vec = spam_vectorizer.transform([cleaned])  # Vectorize text\n",
    "    spam_pred = spam_model.predict(spam_vec)[0]  # Get prediction (0 or 1)\n",
    "    spam_prob = spam_model.predict_proba(spam_vec)[0][spam_pred]  # Get probability of prediction\n",
    "    \n",
    "    # Hate speech classification\n",
    "    hate_vec = hate_vectorizer.transform([cleaned]) # Vectorize text\n",
    "    hate_pred = hate_model.predict(hate_vec)[0] # Get prediction (0 or 1)\n",
    "    hate_prob = hate_model.predict_proba(hate_vec)[0][hate_pred] # Get probability of prediction\n",
    "    \n",
    "    # Return structured results\n",
    "    return {\n",
    "        'text': text,  # Original text\n",
    "        'spam': {\n",
    "            'prediction': spam_pred,  # Numerical prediction\n",
    "            'label': models['spam']['output'][spam_pred],  # Human-readable label\n",
    "            'confidence': spam_prob  # Confidence score\n",
    "        },\n",
    "        'hate': {\n",
    "            'prediction': hate_pred,\n",
    "            'label': models['hate']['output'][hate_pred],\n",
    "            'confidence': hate_prob\n",
    "        }\n",
    "    }"
   ]
  },
  {
   "cell_type": "markdown",
   "id": "67e2be39",
   "metadata": {},
   "source": [
    "### Length Metrics"
   ]
  },
  {
   "cell_type": "code",
   "execution_count": 30,
   "id": "6d887674",
   "metadata": {},
   "outputs": [
    {
     "data": {
      "image/png": "[encoded data removed]",
      "text/plain": [
       "<Figure size 1000x600 with 1 Axes>"
      ]
     },
     "metadata": {},
     "output_type": "display_data"
    }
   ],
   "source": [
    "# Example texts and corresponding ground truth labels (1 = spam/hate, 0 = clean)\n",
    "test_texts = [\n",
    "    \"Women are inferior to men in evry way\",\n",
    "    \"We should deport all immigrants immmediately\",\n",
    "    \"That religion is a cancer on our society\",\n",
    "    \"I disagree with that political position\",\n",
    "    \"The weather is terrible today\",\n",
    "    \"That resturaunt has bad service\",\n",
    "    \"WIN a FREE iPhone today! Text WIN to 12345\",\n",
    "    \"You've won a $1000 Amazon gift card! click here: bit.ly/freegift\",\n",
    "    \"Limited time offer! 50% of all products. Visit now: example.com/deal\",\n",
    "    \"Hey, are we still meeting for lunch tommorow?\",\n",
    "    \"Can you send me the report when you get a chance?\",\n",
    "    \"Thanks for your help with the project yesterday!\",\n",
    "    \"Nigger\"\n",
    "]\n",
    "true_labels = [1,1,1,0,0,0,1,1,1,0,0,0,1]  # <- Update these manually to match the true class for spam/hate\n",
    "\n",
    "# Classify and collect predictions\n",
    "results = []\n",
    "predictions = []\n",
    "\n",
    "for text in test_texts:\n",
    "    result = classify_text(text)\n",
    "    results.append(result)\n",
    "\n",
    "    # Combine predictions for a unified verdict (1 = spam/hate, 0 = clean)\n",
    "    if result['spam']['prediction'] == 1 or result['hate']['prediction'] == 1:\n",
    "        predictions.append(1)\n",
    "    else:\n",
    "        predictions.append(0)\n",
    "\n",
    "# Group function\n",
    "def get_length_group(text):\n",
    "    length = len(text.split())\n",
    "    #print(length)\n",
    "    if length <= 5:\n",
    "        return 'Short Text'\n",
    "    elif length <= 9:\n",
    "        return 'Medium Text'\n",
    "    else:\n",
    "        return 'Long Text'\n",
    "\n",
    "# Build dataframe for analysis\n",
    "df = pd.DataFrame({\n",
    "    'text': test_texts,\n",
    "    'label': true_labels,\n",
    "    'prediction': predictions\n",
    "})\n",
    "df['group'] = df['text'].apply(get_length_group)\n",
    "\n",
    "# Evaluate metrics per group\n",
    "group_names = ['Short Text', 'Medium Text', 'Long Text']\n",
    "accuracies, precisions, f1_scores = [], [], []\n",
    "\n",
    "for group in group_names:\n",
    "    group_df = df[df['group'] == group]\n",
    "    if not group_df.empty:\n",
    "        acc = accuracy_score(group_df['label'], group_df['prediction'])\n",
    "        prec = precision_score(group_df['label'], group_df['prediction'], average='weighted', zero_division=0)\n",
    "        f1 = f1_score(group_df['label'], group_df['prediction'], average='weighted', zero_division=0)\n",
    "    else:\n",
    "        acc = prec = f1 = 0\n",
    "    accuracies.append(acc)\n",
    "    precisions.append(prec)\n",
    "    f1_scores.append(f1)\n",
    "\n",
    "# Visualize results\n",
    "df_metrics = pd.DataFrame({\n",
    "    'Group': group_names,\n",
    "    'Accuracy': accuracies,\n",
    "    'Precision': precisions,\n",
    "    'F1 Score': f1_scores\n",
    "})\n",
    "df_melted = df_metrics.melt(id_vars='Group', var_name='Metric', value_name='Score')\n",
    "\n",
    "plt.figure(figsize=(10, 6))\n",
    "sns.barplot(data=df_melted, x='Group', y='Score', hue='Metric')\n",
    "plt.title('Model Performance Over Different Input Length Groups')\n",
    "plt.ylim(0, 1)\n",
    "plt.ylabel('Score')\n",
    "plt.xlabel('Input Group')\n",
    "plt.legend(loc='lower right')\n",
    "plt.tight_layout()\n",
    "plt.show()\n"
   ]
  },
  {
   "cell_type": "markdown",
   "id": "47886265",
   "metadata": {},
   "source": [
    "### Test Sentences"
   ]
  },
  {
   "cell_type": "code",
   "execution_count": 31,
   "id": "1c3c256e",
   "metadata": {},
   "outputs": [
    {
     "name": "stdout",
     "output_type": "stream",
     "text": [
      "\n",
      "Text: 'I do not agree with his political position!'\n",
      "\n",
      "Classification Results:\n",
      "SPAM: NOT SPAM (confidence: 81.0%)\n",
      "HATE: NOT HATE (confidence: 61.8%)\n",
      "\n",
      "FINAL VERDICT: This is CLEAN (not spam or hate speech)\n"
     ]
    }
   ],
   "source": [
    "# Text to classify - EDIT THIS VARIABLE TO TEST DIFFERENT TEXTS\n",
    "test_text = \"I do not agree with his political position!\"\n",
    "\n",
    "\n",
    "# Get and display classification results for the test text\n",
    "result = classify_text(test_text)\n",
    "\n",
    "# Print classification results\n",
    "print(f\"\\nText: '{result['text']}'\")\n",
    "print(\"\\nClassification Results:\")\n",
    "print(f\"SPAM: {result['spam']['label']} (confidence: {result['spam']['confidence']:.1%})\")  # Format as percentage\n",
    "print(f\"HATE: {result['hate']['label']} (confidence: {result['hate']['confidence']:.1%})\")\n",
    "\n",
    "# Make final determination based on model predictions; Three categories: Spam, Hate Speech, Clean\n",
    "if result['spam']['prediction'] == 1:\n",
    "    print(\"\\nFINAL VERDICT: This is SPAM\")\n",
    "elif result['hate']['prediction'] == 1:\n",
    "    print(\"\\nFINAL VERDICT: This is HATE SPEECH\")\n",
    "else:\n",
    "    print(\"\\nFINAL VERDICT: This is CLEAN (not spam or hate speech)\")"
   ]
  }
 ],
 "metadata": {
  "kernelspec": {
   "display_name": "base",
   "language": "python",
   "name": "python3"
  },
  "language_info": {
   "codemirror_mode": {
    "name": "ipython",
    "version": 3
   },
   "file_extension": ".py",
   "mimetype": "text/x-python",
   "name": "python",
   "nbconvert_exporter": "python",
   "pygments_lexer": "ipython3",
   "version": "3.12.4"
  }
 },
 "nbformat": 4,
 "nbformat_minor": 5
}
